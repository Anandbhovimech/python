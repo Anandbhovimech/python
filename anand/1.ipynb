{
 "cells": [
  {
   "cell_type": "code",
   "execution_count": null,
   "metadata": {},
   "outputs": [],
   "source": [
    "\n",
    "def age(num):\n",
    "    res=num\n",
    "    print(result)\n",
    "inp=int(input(\"Enter the age:\"))\n",
    "age(inp)\n",
    "\n",
    "\n",
    "    "
   ]
  },
  {
   "cell_type": "code",
   "execution_count": null,
   "metadata": {},
   "outputs": [],
   "source": [
    "def sal(num)\n",
    "    res=num\n",
    "    print(result)\n",
    "inp=float(input(\"enter the sal:\"))\n",
    "sal(inp)"
   ]
  }
 ],
 "metadata": {
  "language_info": {
   "name": "python"
  },
  "orig_nbformat": 4
 },
 "nbformat": 4,
 "nbformat_minor": 2
}
